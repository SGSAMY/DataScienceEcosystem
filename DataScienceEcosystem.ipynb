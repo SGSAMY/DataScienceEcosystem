{
 "cells": [
  {
   "cell_type": "markdown",
   "id": "db264c13-521f-45a1-b46c-340856df438c",
   "metadata": {},
   "source": [
    "# Data Science Tools and Ecosystem\n"
   ]
  },
  {
   "cell_type": "markdown",
   "id": "d0c5c207-2246-4e46-a966-e6ebf6c80995",
   "metadata": {},
   "source": [
    "In this notebook, Data Science Tools and Ecosystem are summarized.\n"
   ]
  },
  {
   "cell_type": "markdown",
   "id": "f0f23141-cdf4-484d-a4a2-574e647d4575",
   "metadata": {},
   "source": [
    "Some of the popular languages that Data Scientists use are:\n",
    "- Python\n",
    "- R\n",
    "- SQL\n",
    "- Julia\n",
    "- Scala\n"
   ]
  },
  {
   "cell_type": "markdown",
   "id": "7b70a197-b623-4700-b51f-2f0e0dabc345",
   "metadata": {},
   "source": [
    "Some of the commonly used libraries by Data Scientists include:\n",
    "- NumPy\n",
    "- Pandas\n",
    "- Matplotlib\n",
    "- Seaborn\n",
    "- Keras\n",
    "- PyTorch\n",
    "- Scikit-learn\n",
    "- TensorFlow\n"
   ]
  },
  {
   "cell_type": "markdown",
   "id": "a766c7ef-ff99-4041-8c1b-2c1b1dd90dba",
   "metadata": {},
   "source": [
    "| Data Science Tools       |\n",
    "|--------------------------|\n",
    "| Jupyter Notebooks        |\n",
    "| RStudio                  |\n",
    "| Spyder                   |\n"
   ]
  },
  {
   "cell_type": "markdown",
   "id": "dac5c113-3f33-4b54-93d3-5437eb0f5a30",
   "metadata": {},
   "source": [
    "### Below are a few examples of evaluating arithmetic expressions in Python\n"
   ]
  },
  {
   "cell_type": "code",
   "execution_count": 7,
   "id": "d05a1f78-3433-42b1-9d76-6d41b8f51123",
   "metadata": {},
   "outputs": [
    {
     "data": {
      "text/plain": [
       "17"
      ]
     },
     "execution_count": 7,
     "metadata": {},
     "output_type": "execute_result"
    }
   ],
   "source": [
    "# This is a simple arithmetic expression to multiply then add integers.\n",
    "result = (3 * 4) + 5\n",
    "result\n"
   ]
  },
  {
   "cell_type": "code",
   "execution_count": 9,
   "id": "0a079f9e-2aeb-4577-9804-a66f76b031ab",
   "metadata": {},
   "outputs": [
    {
     "data": {
      "text/plain": [
       "3.3333333333333335"
      ]
     },
     "execution_count": 9,
     "metadata": {},
     "output_type": "execute_result"
    }
   ],
   "source": [
    "# This will convert 200 minutes to hours by dividing by 60.\n",
    "minutes = 200\n",
    "hours = minutes / 60\n",
    "hours\n"
   ]
  },
  {
   "cell_type": "markdown",
   "id": "45b8a4a1-301f-44fc-8693-79e552376796",
   "metadata": {},
   "source": [
    "**Objectives:**\n",
    "\n",
    "- List popular languages for Data Science\n",
    "- Libraries used in Data Science\n",
    "- Tools used in Data Science\n",
    "- How to use Github\n",
    "- How to use arithmetic expression, comments and markdown\n"
   ]
  },
  {
   "cell_type": "markdown",
   "id": "c373dd37-6945-456e-8e96-6d08e39c18c8",
   "metadata": {},
   "source": [
    "## Author\n",
    "\n",
    "SG SAMY\n"
   ]
  },
  {
   "cell_type": "code",
   "execution_count": null,
   "id": "d9c221a8-1599-4622-a67f-d238e280d151",
   "metadata": {},
   "outputs": [],
   "source": []
  }
 ],
 "metadata": {
  "kernelspec": {
   "display_name": "Python 3 (ipykernel)",
   "language": "python",
   "name": "python3"
  },
  "language_info": {
   "codemirror_mode": {
    "name": "ipython",
    "version": 3
   },
   "file_extension": ".py",
   "mimetype": "text/x-python",
   "name": "python",
   "nbconvert_exporter": "python",
   "pygments_lexer": "ipython3",
   "version": "3.12.4"
  }
 },
 "nbformat": 4,
 "nbformat_minor": 5
}
